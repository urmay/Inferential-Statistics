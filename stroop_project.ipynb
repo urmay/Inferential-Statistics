{
 "cells": [
  {
   "cell_type": "markdown",
   "metadata": {},
   "source": [
    "## Test a Perceptual Phenomenon\n",
    "\n",
    "In, this project we have investigated a classic phenomenon from experimental psychology called the **Stroop Effect**.\n",
    "<br>\n",
    "### Introduction\n",
    "In psychology, the ***Stroop effect*** is a demonstration of interference in the reaction time of a task. When the name of a color (e.g., \"blue\", \"green\", or \"red\") is printed in a color that is not denoted by the name (e.g., the word \"red\" printed in blue ink instead of red ink), naming the color of the word takes longer and is more prone to errors than when the color of the ink matches the name of the color. The effect is named after John Ridley Stroop, who first published the effect in English in 1935.__[1](https://en.wikipedia.org/wiki/Stroop_effect)__\n",
    "<br>\n",
    "<br>\n",
    "### The Experiment\n",
    "Participants are presented with a list of words, with each word displayed in a color of ink. The task requires the participants to read the written color names of the words independently of the color of the ink (for example, they would have to read \"purple\" no matter what the color of the font is). The word were of two types : __congruent__ and __incongruent__ words. In case of congruent words , the words match the colors in which they are printed and in case of incongruent words, the words displayed do not match the colors or ink in which they are printed. In each case, the time it takes a participant to name the ink colors in equally-sized lists is measured. Each participant will go through and record a time from each condition.__[5](http://rstudio-pubs-static.s3.amazonaws.com/255250_588c58f276104e28ba9899c45b2c5a57.html)__ , __[1](https://en.wikipedia.org/wiki/Stroop_effect)__\n",
    "<br>"
   ]
  },
  {
   "cell_type": "markdown",
   "metadata": {},
   "source": [
    "### 1. Loading the  Dataset "
   ]
  },
  {
   "cell_type": "code",
   "execution_count": 7,
   "metadata": {
    "collapsed": false
   },
   "outputs": [
    {
     "data": {
      "text/html": [
       "<div>\n",
       "<table border=\"1\" class=\"dataframe\">\n",
       "  <thead>\n",
       "    <tr style=\"text-align: right;\">\n",
       "      <th></th>\n",
       "      <th>Congruent</th>\n",
       "      <th>Incongruent</th>\n",
       "    </tr>\n",
       "  </thead>\n",
       "  <tbody>\n",
       "    <tr>\n",
       "      <th>0</th>\n",
       "      <td>12.079</td>\n",
       "      <td>19.278</td>\n",
       "    </tr>\n",
       "    <tr>\n",
       "      <th>1</th>\n",
       "      <td>16.791</td>\n",
       "      <td>18.741</td>\n",
       "    </tr>\n",
       "    <tr>\n",
       "      <th>2</th>\n",
       "      <td>9.564</td>\n",
       "      <td>21.214</td>\n",
       "    </tr>\n",
       "    <tr>\n",
       "      <th>3</th>\n",
       "      <td>8.630</td>\n",
       "      <td>15.687</td>\n",
       "    </tr>\n",
       "    <tr>\n",
       "      <th>4</th>\n",
       "      <td>14.669</td>\n",
       "      <td>22.803</td>\n",
       "    </tr>\n",
       "    <tr>\n",
       "      <th>5</th>\n",
       "      <td>12.238</td>\n",
       "      <td>20.878</td>\n",
       "    </tr>\n",
       "    <tr>\n",
       "      <th>6</th>\n",
       "      <td>14.692</td>\n",
       "      <td>24.572</td>\n",
       "    </tr>\n",
       "    <tr>\n",
       "      <th>7</th>\n",
       "      <td>8.987</td>\n",
       "      <td>17.394</td>\n",
       "    </tr>\n",
       "    <tr>\n",
       "      <th>8</th>\n",
       "      <td>9.401</td>\n",
       "      <td>20.762</td>\n",
       "    </tr>\n",
       "    <tr>\n",
       "      <th>9</th>\n",
       "      <td>14.480</td>\n",
       "      <td>26.282</td>\n",
       "    </tr>\n",
       "    <tr>\n",
       "      <th>10</th>\n",
       "      <td>22.328</td>\n",
       "      <td>24.524</td>\n",
       "    </tr>\n",
       "    <tr>\n",
       "      <th>11</th>\n",
       "      <td>15.298</td>\n",
       "      <td>18.644</td>\n",
       "    </tr>\n",
       "    <tr>\n",
       "      <th>12</th>\n",
       "      <td>15.073</td>\n",
       "      <td>17.510</td>\n",
       "    </tr>\n",
       "    <tr>\n",
       "      <th>13</th>\n",
       "      <td>16.929</td>\n",
       "      <td>20.330</td>\n",
       "    </tr>\n",
       "    <tr>\n",
       "      <th>14</th>\n",
       "      <td>18.200</td>\n",
       "      <td>35.255</td>\n",
       "    </tr>\n",
       "    <tr>\n",
       "      <th>15</th>\n",
       "      <td>12.130</td>\n",
       "      <td>22.158</td>\n",
       "    </tr>\n",
       "    <tr>\n",
       "      <th>16</th>\n",
       "      <td>18.495</td>\n",
       "      <td>25.139</td>\n",
       "    </tr>\n",
       "    <tr>\n",
       "      <th>17</th>\n",
       "      <td>10.639</td>\n",
       "      <td>20.429</td>\n",
       "    </tr>\n",
       "    <tr>\n",
       "      <th>18</th>\n",
       "      <td>11.344</td>\n",
       "      <td>17.425</td>\n",
       "    </tr>\n",
       "    <tr>\n",
       "      <th>19</th>\n",
       "      <td>12.369</td>\n",
       "      <td>34.288</td>\n",
       "    </tr>\n",
       "    <tr>\n",
       "      <th>20</th>\n",
       "      <td>12.944</td>\n",
       "      <td>23.894</td>\n",
       "    </tr>\n",
       "    <tr>\n",
       "      <th>21</th>\n",
       "      <td>14.233</td>\n",
       "      <td>17.960</td>\n",
       "    </tr>\n",
       "    <tr>\n",
       "      <th>22</th>\n",
       "      <td>19.710</td>\n",
       "      <td>22.058</td>\n",
       "    </tr>\n",
       "    <tr>\n",
       "      <th>23</th>\n",
       "      <td>16.004</td>\n",
       "      <td>21.157</td>\n",
       "    </tr>\n",
       "  </tbody>\n",
       "</table>\n",
       "</div>"
      ],
      "text/plain": [
       "    Congruent  Incongruent\n",
       "0      12.079       19.278\n",
       "1      16.791       18.741\n",
       "2       9.564       21.214\n",
       "3       8.630       15.687\n",
       "4      14.669       22.803\n",
       "5      12.238       20.878\n",
       "6      14.692       24.572\n",
       "7       8.987       17.394\n",
       "8       9.401       20.762\n",
       "9      14.480       26.282\n",
       "10     22.328       24.524\n",
       "11     15.298       18.644\n",
       "12     15.073       17.510\n",
       "13     16.929       20.330\n",
       "14     18.200       35.255\n",
       "15     12.130       22.158\n",
       "16     18.495       25.139\n",
       "17     10.639       20.429\n",
       "18     11.344       17.425\n",
       "19     12.369       34.288\n",
       "20     12.944       23.894\n",
       "21     14.233       17.960\n",
       "22     19.710       22.058\n",
       "23     16.004       21.157"
      ]
     },
     "execution_count": 7,
     "metadata": {},
     "output_type": "execute_result"
    }
   ],
   "source": [
    "#importing \n",
    "import os\n",
    "import pandas as pd\n",
    "import numpy as np\n",
    "# Reading the csv file and coverting to dataframe\n",
    "df_stroop=pd.read_csv(\"stroopdata.csv\")\n",
    "df_stroop.head(25)"
   ]
  },
  {
   "cell_type": "markdown",
   "metadata": {},
   "source": [
    "### Question 1: Identify variables in the experiment:\n",
    "#### Question response correctly identifies the independent and dependent variables in the experiment. \n",
    "Q1 .  What is our independent variable? What is our dependent variable?\n",
    "\n",
    "### Answer:\n",
    "**Independent Variables** is the congruency (Congruent or Incongruent) which signifies whether the name of the color matches with the ink color.  \n",
    "**Dependent Variables** is the time of response (in seconds)"
   ]
  },
  {
   "cell_type": "markdown",
   "metadata": {},
   "source": [
    "### Question 2a & 2b: Establish hypotheses and  Establish a statistical test:\n",
    "\n",
    "#### Null and alternative hypotheses are clearly stated in words and mathematically. Symbols in the mathematical statement are defined. Also, A statistical test is proposed which will distinguish the proposed hypotheses. Any assumptions made by the statistical test are addressed.\n",
    "Q2. What is an appropriate set of hypotheses for this task? What kind of statistical test do you expect to perform? Justify your choices.\n",
    "\n",
    "### Answer :\n",
    "<br>\n",
    "1. μ<sub>i</sub> : population mean for incongruence words group\n",
    "2. μ<sub>c</sub> : population mean for congruence words group\n",
    "\n",
    "In this case,we are referring to the population means of congruence words group and incongruence words group - average times for the respective groups to recognize the colors. By comparing these means directly, we’ll be able to tell whether there is a difference between the two groups or not . However, it wouldn’t be possible to do the experiment with all potential subjects in the world, so we need to work with the sample we have on hand to make inference about the population means, i.e., to use the observation means, sd and other statistics to infer about the population means. In this case, the observation is the difference between the two groups’ times. With this new data, we can construct new statistics such as means and standard errors.__[6](https://rstudio-pubs-static.s3.amazonaws.com/118060_fcdc77aa7ffb452bb4cc8b67021d973a.html)__\n",
    "\n",
    "**Null Hypothesis(Ho):** (  μ<sub>i</sub> - μ<sub>c</sub> = 0 ) There is no significant difference in the population average response times for the congruent(c) words vs the incongruent(i) words.\n",
    "\n",
    "**Alternative Hypothesis(Ha):** ( μ<sub>i</sub> - μ<sub>c</sub> ≠ 0 ) There is a significant difference (positive or negative), in the population average response times.\n",
    "\n",
    "**Statistical Test** : \n",
    "The **Dependent t-Test** would be the most appropriate statistical test to perform here. \n",
    "The samples are **Dependent** as the same subjects are assigned to two different conditions and the values in one sample affect the values in the other sample. In addition, we don't have any population parameters provided (so a z-test would not be appropriate here)."
   ]
  },
  {
   "cell_type": "markdown",
   "metadata": {},
   "source": [
    "### Question 3: Report descriptive statistics:\n",
    "#### Descriptive statistics, including at least one measure of centrality and one measure of variability,have been computed for the dataset’s groups.\n",
    "Q3. Report some descriptive statistics regarding this dataset. Include at least one measure of central tendency\n",
    "and at least one measure of variability."
   ]
  },
  {
   "cell_type": "markdown",
   "metadata": {},
   "source": [
    "###  Calculating the mean of the sample"
   ]
  },
  {
   "cell_type": "code",
   "execution_count": 13,
   "metadata": {
    "collapsed": false
   },
   "outputs": [
    {
     "name": "stdout",
     "output_type": "stream",
     "text": [
      "Congruent      14.051\n",
      "Incongruent    22.016\n",
      "dtype: float64\n"
     ]
    }
   ],
   "source": [
    "#directly we can find the mean using pandas\n",
    "print(round(df_stroop.mean(),3))\n",
    "\n",
    "#selecting individual column and finding mean\n",
    "\n",
    "congruent = df_stroop['Congruent']\n",
    "incongruent = df_stroop['Incongruent']"
   ]
  },
  {
   "cell_type": "markdown",
   "metadata": {},
   "source": [
    "###  Calculating the median of the sample"
   ]
  },
  {
   "cell_type": "code",
   "execution_count": 14,
   "metadata": {
    "collapsed": false
   },
   "outputs": [
    {
     "name": "stdout",
     "output_type": "stream",
     "text": [
      "Congruent      14.356\n",
      "Incongruent    21.018\n",
      "dtype: float64\n"
     ]
    }
   ],
   "source": [
    "#directly we can find the median using pandas\n",
    "print(round(df_stroop.median(),3))"
   ]
  },
  {
   "cell_type": "markdown",
   "metadata": {},
   "source": [
    "We can see from the above that there is a vast difference between the mean of the congurent and incongurent meaning that it will took more time for incongurent same you can notice with median scenario.We can also see that the median is greater than mean for congruent words. That means more of our data is on the right of the mean . This is opposite for the incongruent words as the median is less than the mean.Seeing both it also indicates that there is no outliers in the dataset for both cases."
   ]
  },
  {
   "cell_type": "markdown",
   "metadata": {},
   "source": [
    "### Calculating Standard Deviation of the sample"
   ]
  },
  {
   "cell_type": "code",
   "execution_count": 15,
   "metadata": {
    "collapsed": false
   },
   "outputs": [
    {
     "name": "stdout",
     "output_type": "stream",
     "text": [
      "Congruent      3.559\n",
      "Incongruent    4.797\n",
      "dtype: float64\n"
     ]
    }
   ],
   "source": [
    "#directly we can find the median using pandas\n",
    "print(round(df_stroop.std(),3))\n"
   ]
  },
  {
   "cell_type": "markdown",
   "metadata": {},
   "source": [
    "**Standard deviation** is a number used to tell how measurements for a group are spread out from the average (mean), or expected value. A low standard deviation means that most of the numbers are very close to the average. A high standard deviation means that the numbers are spread out.__[2](https://simple.wikipedia.org/wiki/Standard_deviation)__ . So here we can say that for our data our data is more spread out as our SD is high."
   ]
  },
  {
   "cell_type": "markdown",
   "metadata": {},
   "source": [
    "#### Outliers\n",
    "\n",
    "In statistics, an **outlier** is an observation point that is distant from other observations.Outliers can occur by chance in any distribution, but they often indicate either measurement error or that the population has a heavy-tailed distribution. In the former case one wishes to discard them or use statistics that are robust to outliers, while in the latter case they indicate that the distribution has high skewness and that one should be very cautious in using tools or intuitions that assume a normal distribution. __[3](https://en.wikipedia.org/wiki/Outlier)__\n",
    "<br>\n",
    "<br>\n",
    "**Outliers < Q1−1.5×(IQR) or Outliers > Q3+1.5×(IQR)**\n",
    "\n",
    "Thus below code will find out outliers in a list form for both the congruencies\n",
    "\n",
    "**Congruent**"
   ]
  },
  {
   "cell_type": "code",
   "execution_count": 27,
   "metadata": {
    "collapsed": false
   },
   "outputs": [
    {
     "name": "stdout",
     "output_type": "stream",
     "text": [
      "Congruent :\n",
      "Q1 =  11.89525 , Q3 =  16.20075 , IQR =  4.3055\n",
      "\n",
      " There is no outlier in the congruent sample\n"
     ]
    }
   ],
   "source": [
    "# Calculating Q1 and Q2 for Congruent data\n",
    "# below code gives 75th and 25th percentile\n",
    "congruent_iqr75, congruent_iqr25 = np.percentile(congruent, [75 ,25])\n",
    "\n",
    "round(congruent_iqr75,3)\n",
    "round(congruent_iqr25,3)\n",
    "\n",
    "\n",
    "# Calculating IQR for Congruent data\n",
    "congruent_IQR = congruent_iqr75-congruent_iqr25\n",
    "round(congruent_IQR,3)\n",
    "\n",
    "print(\"Congruent :\")\n",
    "\n",
    "# Printing various values for \n",
    "print('Q1 = ',congruent_iqr25,', Q3 = ',congruent_iqr75, ', IQR = ',congruent_IQR)\n",
    "\n",
    "#cheking is there any outlier present?\n",
    "cong_lower = (congruent_iqr25 - (1.5*congruent_IQR))\n",
    "cong_upper = (congruent_iqr75 + (1.5*congruent_IQR))\n",
    "\n",
    "# making a list for all congurent outliers\n",
    "congruent_outliers =[]\n",
    "\n",
    "# checking for outliers\n",
    "for i in df_stroop['Congruent']:\n",
    "    if (cong_lower > i or cong_upper < i):\n",
    "        congrent_outliers.append(i)\n",
    "    else:\n",
    "        pass \n",
    "    \n",
    "# Printing list of Outliers\n",
    "if len(congruent_outliers) == 0:\n",
    "    print ('\\n There is no outlier in the congruent sample')\n",
    "else:\n",
    "    print ('\\nOutliers :',congrent_outliers)\n"
   ]
  },
  {
   "cell_type": "markdown",
   "metadata": {},
   "source": [
    "**Incongruent**"
   ]
  },
  {
   "cell_type": "code",
   "execution_count": 30,
   "metadata": {
    "collapsed": false
   },
   "outputs": [
    {
     "name": "stdout",
     "output_type": "stream",
     "text": [
      "Incongruent :\n",
      "Q1 =  18.71675 , Q3 =  24.0515 , IQR =  5.33475\n",
      "\n",
      "Outliers : [35.255000000000003, 34.288000000000004]\n"
     ]
    }
   ],
   "source": [
    "incongruent_iqr75,incongruent_iqr25 = np.percentile(incongruent,[75,25])\n",
    "\n",
    "round(incongruent_iqr75,3)\n",
    "round(incongruent_iqr25,3)\n",
    "\n",
    "# Calculating IQR for Incongruent data\n",
    "incongruent_IQR = incongruent_iqr75 - incongruent_iqr25\n",
    "round(incongruent_IQR,3)\n",
    "\n",
    "print(\"Incongruent :\")\n",
    "\n",
    "# Printing various values for \n",
    "print('Q1 = ',incongruent_iqr25,', Q3 = ',incongruent_iqr75, ', IQR = ',incongruent_IQR)\n",
    "\n",
    "# Calulating range for checking the presence of outliers\n",
    "incong_lower = (incongruent_iqr25-(1.5*incongruent_IQR))\n",
    "incong_upper = (incongruent_iqr75+(1.5*incongruent_IQR))\n",
    "\n",
    "# making a list for all congurent outliers\n",
    "incongruent_outliers =[]\n",
    "\n",
    "#checking for outliers\n",
    "\n",
    "for i in df_stroop['Incongruent']:\n",
    "    if (incong_lower > i or incong_upper < i):\n",
    "        incongruent_outliers.append(i)\n",
    "    else:\n",
    "        pass\n",
    "\n",
    "#printing list of outliers\n",
    "if len(incongruent_outliers) == 0:\n",
    "    print ('\\nNo Outliers found for Incongruent data.')\n",
    "else:\n",
    "    print ('\\nOutliers :',incongruent_outliers)\n",
    "\n"
   ]
  },
  {
   "cell_type": "markdown",
   "metadata": {},
   "source": [
    "**We can see that congruent data does not have any outliers but incongruent data has two.**"
   ]
  },
  {
   "cell_type": "markdown",
   "metadata": {},
   "source": [
    "### Question 4: Plot the data:\n",
    "#### One or two visualizations have been created that show off the data, including comments on what can be observed in the plot or plots.\n",
    "Q4. Provide one or two visualizations that show the distribution of the sample data. Write one or two sentences noting what you observe about the plot or plots.\n",
    "\n",
    "** 1. Boxplot **"
   ]
  },
  {
   "cell_type": "code",
   "execution_count": 43,
   "metadata": {
    "collapsed": false
   },
   "outputs": [
    {
     "data": {
      "image/png": "[encoded data removed]",
      "text/plain": [
       "<matplotlib.figure.Figure at 0x32bbb07198>"
      ]
     },
     "metadata": {},
     "output_type": "display_data"
    }
   ],
   "source": [
    "import numpy as np\n",
    "import matplotlib.pyplot as plt\n",
    "%matplotlib inline\n",
    "data = [congruent,incongruent]\n",
    "plt.boxplot(data)\n",
    "\n",
    "# Add x-axis\n",
    "plt.xticks(range(1, 3), ('congruent', 'incongruent'))\n",
    "# Add y-axis\n",
    "plt.ylabel('Reaction time in second')\n",
    "plt.title('Box plot for congruent and incongruent',fontsize = 15)\n",
    "plt.show()\n",
    "#plt.savefig(\"boxplotforboth.png\",transparent = True)\n"
   ]
  },
  {
   "cell_type": "markdown",
   "metadata": {},
   "source": [
    "From the above boxplot it is clearly visible that because of few outliers in incongruent sample the mean response time is increased."
   ]
  },
  {
   "cell_type": "markdown",
   "metadata": {},
   "source": [
    "** 2. Histogram **"
   ]
  },
  {
   "cell_type": "code",
   "execution_count": 56,
   "metadata": {
    "collapsed": false
   },
   "outputs": [
    {
     "data": {
      "image/png": "[encoded data removed]",
      "text/plain": [
       "<matplotlib.figure.Figure at 0x32bbad2908>"
      ]
     },
     "metadata": {},
     "output_type": "display_data"
    }
   ],
   "source": [
    "plt.figure()\n",
    "plt.hist(df_stroop['Congruent'],label = 'Congruent',alpha=0.8,color=\"skyblue\")\n",
    "plt.hist(df_stroop['Incongruent'],label = 'Incongruent',alpha=0.8,color='navy')\n",
    "plt.legend()\n",
    "plt.xlabel('Time')\n",
    "plt.ylabel('Frequency')\n",
    "plt.title('Combined Histogram for both congruencies')\n",
    "plt.show()"
   ]
  },
  {
   "cell_type": "markdown",
   "metadata": {},
   "source": [
    "### Question 5: Perform the statistical test and interpret your results:\n",
    "#### A statistical test has been correctly performed and reported, including test statistic, p-value, and test result. The test results are interpreted in terms of the experimental task performed.\n",
    "\n",
    "Q5. Now, perform the statistical test and report your results. What is your confidence level and your critical statistic value? Do you reject the null hypothesis or fail to reject it? Come to a conclusion in terms of the experiment task. Did the results match up with your expectations?"
   ]
  },
  {
   "cell_type": "markdown",
   "metadata": {},
   "source": [
    "For performing statistical test , I am considering the below conditions:\n",
    "<br>\n",
    "<br>\n",
    "**Alpha(α)**: 0.05<br>\n",
    "**Confidence Level** = 95%<br>\n",
    "**t-critical value** (2-tailed test): **t<sub>critical</sub>** =  +- 2.069 (From [t-table](https://s3.amazonaws.com/udacity-hosted-downloads/t-table.jpg) )<br>\n",
    "**df** = n - 1 = 23\n",
    "<br>\n",
    "**Below are calculating various parameters.**\n"
   ]
  },
  {
   "cell_type": "code",
   "execution_count": 62,
   "metadata": {
    "collapsed": false
   },
   "outputs": [
    {
     "name": "stdout",
     "output_type": "stream",
     "text": [
      "Degree of Freedom: 23\n",
      "T critical: 2.06865761042\n",
      "Point Estimate: -7.965\n"
     ]
    }
   ],
   "source": [
    "# Degrees of Freedom of the sample\n",
    "degree_freedom = len(df_stroop)-1\n",
    "print(\"Degree of Freedom:\",degree_freedom)\n",
    "\n",
    "# calculating t_critical value\n",
    "from scipy import stats\n",
    "t_critical = stats.t.ppf(1-0.025, degree_freedom)\n",
    "print(\"T critical:\",t_critical)\n",
    "\n",
    "# point estimate of μi - μc -> Point_Estimate (in seconds)\n",
    "congruent_mean =congruent.mean()\n",
    "incongruent_mean = incongruent.mean()\n",
    "point_estimate = congruent_mean - incongruent_mean\n",
    "print(\"Point Estimate:\",round(point_estimate,3))\n",
    "\n",
    "\n"
   ]
  },
  {
   "cell_type": "code",
   "execution_count": 68,
   "metadata": {
    "collapsed": false
   },
   "outputs": [
    {
     "data": {
      "text/plain": [
       "4.865"
      ]
     },
     "execution_count": 68,
     "metadata": {},
     "output_type": "execute_result"
    }
   ],
   "source": [
    "#1. diff = sample difference\n",
    "df_stroop['diff'] = df_stroop['Incongruent'] - df_stroop['Congruent']\n",
    "\n",
    "#2. DM stands for difference of the mean\n",
    "# SD stands for squared differences of the mean\n",
    "Mean_Diff = df_stroop['diff'].mean()\n",
    "DM = df_stroop['diff'] - Mean_Diff\n",
    "df_stroop['SD'] = DM*DM\n",
    "\n",
    "#3. SSD = sum of squared differences\n",
    "SSD = df_stroop['SD'].sum()\n",
    "\n",
    "#4. variance = SSD/(degree_freedom)\n",
    "variance = SSD/(degree_freedom)\n",
    "\n",
    "# Standard_dev = sample standard deviation of differences\n",
    "#5. Standard_dev = sqrt(variance)\n",
    "from math import *\n",
    "standard_dev = sqrt(variance)\n",
    "standard_dev\n",
    "round(standard_dev,3)"
   ]
  },
  {
   "cell_type": "code",
   "execution_count": 69,
   "metadata": {
    "collapsed": false
   },
   "outputs": [
    {
     "data": {
      "text/plain": [
       "-8.021"
      ]
     },
     "execution_count": 69,
     "metadata": {},
     "output_type": "execute_result"
    }
   ],
   "source": [
    "# t_statistic Calculation\n",
    "# As we have already calculated above, point_estimate = (μi - μc)\n",
    "#t = Point_Estimate/(Standard_dev/√degree_freedom)\n",
    "#t = (congruentMean - IncongruentMean)/(differenceSD/(math.sqrt(number_of_samples)))\n",
    "standard_error = standard_dev/sqrt(degree_freedom+1)\n",
    "t_statistics = point_estimate/(standard_error)\n",
    "round(t_statistics,3)"
   ]
  },
  {
   "cell_type": "code",
   "execution_count": 71,
   "metadata": {
    "collapsed": false
   },
   "outputs": [
    {
     "name": "stdout",
     "output_type": "stream",
     "text": [
      "-1.637\n"
     ]
    }
   ],
   "source": [
    "# cohen's d Calulation\n",
    "cohens_d = point_estimate / standard_dev\n",
    "\n",
    "print(round(cohens_d,3))"
   ]
  },
  {
   "cell_type": "code",
   "execution_count": 73,
   "metadata": {
    "collapsed": false
   },
   "outputs": [
    {
     "data": {
      "text/plain": [
       "[-10.019027909364908, -5.9105554239684208]"
      ]
     },
     "execution_count": 73,
     "metadata": {},
     "output_type": "execute_result"
    }
   ],
   "source": [
    "#95% Confidence Interval\n",
    "#CI = Confidence Interval \n",
    "CI = []\n",
    "# calculating upper and lower limits\n",
    "ci_upper = point_estimate+(t_critical*standard_error)\n",
    "ci_lower = point_estimate-(t_critical*standard_error)\n",
    "\n",
    "#appending to the CI List\n",
    "CI.append(ci_lower)\n",
    "CI.append(ci_upper)\n",
    "\n",
    "# printing CI\n",
    "CI"
   ]
  },
  {
   "cell_type": "code",
   "execution_count": 74,
   "metadata": {
    "collapsed": false
   },
   "outputs": [
    {
     "data": {
      "text/plain": [
       "0.7366364161445059"
      ]
     },
     "execution_count": 74,
     "metadata": {},
     "output_type": "execute_result"
    }
   ],
   "source": [
    "# r squared value calculation\n",
    "\n",
    "t_squared = t_statistics*t_statistics\n",
    "r_param = (t_squared/(t_squared+degree_freedom))\n",
    "r_param\n"
   ]
  },
  {
   "cell_type": "markdown",
   "metadata": {},
   "source": [
    "### Conclusion:\n",
    "\n",
    "Here we observe that |t<sub>statistic</sub>| > |t<sub>critical</sub> or t<sub>α=0.05</sub>|  i.e 8.021 > 2.0689\n",
    "\n",
    "\n",
    "\n",
    "Thus we **reject** the Null Hypothesis stating that there is no significant differences between the population average completion time for the two different conditions (Congruent & Incongruent) or The real difference between group population means is zero. In theory, if we were able to calculate the average difference of every single person person who took this pair of tests (the population) we expect there would be a significantly slower or significantly faster time in either the the incongruent or congruent condition. Also, we get **r<sup>2</sup>** as _73.663%_ which is approx. equal to _74%_, which means that _74%_ of the variation of the time in the incongruent score from the congruent score is actually because the words were changed to incongruent.__[4](https://mayukhsobo.github.io/stroop_effect/hypothesis.html)__"
   ]
  },
  {
   "cell_type": "markdown",
   "metadata": {},
   "source": [
    "#### References\n",
    "[1] : **Stroop Effect** - https://en.wikipedia.org/wiki/Stroop_effect <br>\n",
    "[2] : **Standard Deviation** - https://simple.wikipedia.org/wiki/Standard_deviation <br>\n",
    "[3] : **Outlier** - https://en.wikipedia.org/wiki/Outlier <br>\n",
    "[4] : **Stroop effect Testing ** - https://mayukhsobo.github.io/stroop_effect/hypothesis.html <br>\n",
    "[5] : ** A Test of the Stroop Effect-Zexin Xia** - http://rstudio-pubs-static.s3.amazonaws.com/255250_588c58f276104e28ba9899c45b2c5a57.html <br>\n",
    "[6] : **Test a Perceptual Phenomenon - Stroop Effect by George Liu** - https://rstudio-pubs-static.s3.amazonaws.com/118060_fcdc77aa7ffb452bb4cc8b67021d973a.html <br>"
   ]
  },
  {
   "cell_type": "code",
   "execution_count": null,
   "metadata": {
    "collapsed": true
   },
   "outputs": [],
   "source": []
  }
 ],
 "metadata": {
  "kernelspec": {
   "display_name": "Python 3",
   "language": "python",
   "name": "python3"
  },
  "language_info": {
   "codemirror_mode": {
    "name": "ipython",
    "version": 3
   },
   "file_extension": ".py",
   "mimetype": "text/x-python",
   "name": "python",
   "nbconvert_exporter": "python",
   "pygments_lexer": "ipython3",
   "version": "3.6.0"
  }
 },
 "nbformat": 4,
 "nbformat_minor": 2
}
